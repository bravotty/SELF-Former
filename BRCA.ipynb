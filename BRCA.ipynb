{
 "cells": [
  {
   "cell_type": "code",
   "execution_count": 1,
   "metadata": {
    "pycharm": {
     "name": "#%%\n"
    }
   },
   "outputs": [],
   "source": [
    "import numpy as np\n",
    "import torch\n",
    "import scanpy as sc\n",
    "import torch.nn.functional as F\n",
    "from configure import get_default_config\n",
    "from model_brca import Model\n",
    "from tools import normalize_type\n",
    "import random\n",
    "from sklearn.model_selection import KFold\n",
    "\n",
    "device = torch.device('cuda:0' if torch.cuda.is_available() else 'cpu')\n",
    "dataset = {\n",
    "    0: \"dro\",\n",
    "    1: \"MERFISH\",\n",
    "    2: \"STARmap\",\n",
    "    4: \"BRCA\",\n",
    "    5: \"ELSE\",\n",
    "}\n",
    "data_name = dataset[4]\n",
    "shuffle = False\n",
    "random.seed(48)\n",
    "ktimes = 10\n",
    "cv = KFold(n_splits=ktimes, shuffle=False)"
   ]
  },
  {
   "cell_type": "code",
   "execution_count": 2,
   "metadata": {
    "pycharm": {
     "name": "#%% \n"
    }
   },
   "outputs": [],
   "source": [
    "def filter_with_overlap_gene(adata, adata_sc):\n",
    "    # remove all-zero-valued genes\n",
    "    # sc.pp.filter_genes(adata, min_cells=1)\n",
    "    # sc.pp.filter_genes(adata_sc, min_cells=1)\n",
    "    if 'highly_variable' not in adata.var.keys():\n",
    "        raise ValueError(\"'highly_variable' are not existed in adata!\")\n",
    "    else:\n",
    "        adata = adata[:, adata.var['highly_variable']]\n",
    "\n",
    "    if 'highly_variable' not in adata_sc.var.keys():\n",
    "        raise ValueError(\"'highly_variable' are not existed in adata_sc!\")\n",
    "    else:\n",
    "        adata_sc = adata_sc[:, adata_sc.var['highly_variable']]\n",
    "\n",
    "        # Refine `marker_genes` so that they are shared by both adatas\n",
    "    genes = list(set(adata.var.index) & set(adata_sc.var.index))\n",
    "    genes.sort()\n",
    "    print('Number of overlap genes:', len(genes))\n",
    "    adata.uns[\"overlap_genes\"] = genes\n",
    "    adata_sc.uns[\"overlap_genes\"] = genes\n",
    "\n",
    "    adata = adata[:, genes]\n",
    "    adata_sc = adata_sc[:, genes]\n",
    "\n",
    "    return adata, adata_sc"
   ]
  },
  {
   "cell_type": "code",
   "execution_count": 3,
   "metadata": {
    "pycharm": {
     "name": "#%%\n"
    }
   },
   "outputs": [
    {
     "name": "stderr",
     "output_type": "stream",
     "text": [
      "C:\\ProgramData\\Anaconda3\\envs\\torch1.10\\lib\\site-packages\\scanpy\\preprocessing\\_highly_variable_genes.py:64: UserWarning: `flavor='seurat_v3'` expects raw count data, but non-integers were found.\n",
      "  UserWarning,\n",
      "C:\\ProgramData\\Anaconda3\\envs\\torch1.10\\lib\\site-packages\\anndata\\_core\\anndata.py:1830: UserWarning: Variable names are not unique. To make them unique, call `.var_names_make_unique`.\n",
      "  utils.warn_names_duplicates(\"var\")\n"
     ]
    },
    {
     "name": "stdout",
     "output_type": "stream",
     "text": [
      "Number of overlap genes: 921\n"
     ]
    },
    {
     "name": "stderr",
     "output_type": "stream",
     "text": [
      "C:\\ProgramData\\Anaconda3\\envs\\torch1.10\\lib\\site-packages\\anndata\\compat\\_overloaded_dict.py:106: ImplicitModificationWarning: Trying to modify attribute `._uns` of view, initializing view as actual.\n",
      "  self.data[key] = value\n"
     ]
    }
   ],
   "source": [
    "rna_path = 'data/BRCA/scRNA.h5ad'\n",
    "adata_sc = sc.read(rna_path)\n",
    "adata_sc.var_names_make_unique()\n",
    "sc.pp.highly_variable_genes(adata_sc, flavor=\"seurat_v3\", n_top_genes=3000, inplace=True, subset=True)\n",
    "sc.pp.normalize_total(adata_sc, target_sum=1e4)\n",
    "sc.pp.log1p(adata_sc)\n",
    "# load BRCA ST data\n",
    "adata_st = sc.read_visium(path=r\"./data/BRCA/\",\n",
    "                               count_file=\"filtered_feature_bc_matrix.h5\", library_id=\"BRCA\",\n",
    "                               load_images=True, source_image_path=\"/spatial/\")\n",
    "adata_st.var_names_make_unique()\n",
    "sc.pp.highly_variable_genes(adata_st, flavor=\"seurat_v3\", n_top_genes=3000, inplace=True, subset=True)\n",
    "sc.pp.normalize_total(adata_st, target_sum=1e4)\n",
    "sc.pp.log1p(adata_st)\n",
    "adata_st, adata_sc = filter_with_overlap_gene(adata_st, adata_sc)\n",
    "atlas_genes = adata_st.uns[\"overlap_genes\"]\n",
    "x1_cell, x2_rna = adata_st.X, adata_sc.X\n",
    "x1_cell = x1_cell.todense()"
   ]
  },
  {
   "cell_type": "code",
   "execution_count": 4,
   "metadata": {
    "pycharm": {
     "name": "#%%\n"
    }
   },
   "outputs": [],
   "source": [
    "def pearsonr(x, y):\n",
    "    mean_x = torch.mean(x)\n",
    "    mean_y = torch.mean(y)\n",
    "    xm = x.sub(mean_x)\n",
    "    ym = y.sub(mean_y)\n",
    "    r_num = xm.dot(ym)\n",
    "    r_den = torch.norm(xm, 2) * torch.norm(ym, 2)\n",
    "    r_val = r_num / (r_den + 1e-8)\n",
    "    r_val = torch.nan_to_num(r_val,nan=-1)\n",
    "    return r_val\n",
    "\n",
    "def correlationMetric(x, y):\n",
    "    corr = 0\n",
    "    for idx in range(x.size(1)):\n",
    "        corr += pearsonr(x[:,idx], y[:,idx])\n",
    "    corr /= (idx + 1)\n",
    "    return (1 - corr).mean()"
   ]
  },
  {
   "cell_type": "code",
   "execution_count": 5,
   "metadata": {
    "pycharm": {
     "name": "#%%\n"
    }
   },
   "outputs": [],
   "source": [
    "class MinMaxScaler_torch:\n",
    "    def __init__(self, feature_range=(0, 1)):\n",
    "        self.min_val = None\n",
    "        self.max_val = None\n",
    "        self.feature_range = feature_range\n",
    "\n",
    "    def fit(self, data):\n",
    "        self.min_val, _ = torch.min(data, dim=0)\n",
    "        self.max_val, _ = torch.max(data, dim=0)\n",
    "\n",
    "    def transform(self, data):\n",
    "        data_minmax = (data - self.min_val) / (self.max_val - self.min_val)\n",
    "        data_minmax = data_minmax * (self.feature_range[1] - self.feature_range[0]) + self.feature_range[0]\n",
    "        return data_minmax\n",
    "\n",
    "    def inverse_transform(self, data_minmax):\n",
    "        data = (data_minmax - self.feature_range[0]) / (self.feature_range[1] - self.feature_range[0])\n",
    "        data = data * (self.max_val - self.min_val) + self.min_val\n",
    "        return data"
   ]
  },
  {
   "cell_type": "code",
   "execution_count": 6,
   "metadata": {
    "pycharm": {
     "name": "#%%\n"
    }
   },
   "outputs": [],
   "source": [
    "def train(model, optimizer, x1, x2, config, model_path):\n",
    "    print('\\n===========> Training... <===========')\n",
    "    model.train()\n",
    "    if not isinstance(x1, torch.Tensor):\n",
    "        x1 = torch.from_numpy(x1).to(device)\n",
    "    if not isinstance(x2, torch.Tensor):\n",
    "        x2 = torch.from_numpy(x2).to(device)\n",
    "    for epoch in range(config['pretrain_epochs']):\n",
    "        x1_hat = model(x2)\n",
    "        mask_zero = x1 != 0\n",
    "        x1_masked = torch.masked_select(x1, mask_zero)\n",
    "        x1_masked_pred = torch.masked_select(x1_hat, mask_zero)\n",
    "        loss_ae = F.mse_loss(x1, x1_hat, reduction='mean')\n",
    "        loss_mask_ae = F.mse_loss(x1_masked, x1_masked_pred, reduction='mean')\n",
    "        corrloss = correlationMetric(x1_hat, x1)\n",
    "        loss = loss_ae + 0.001 * loss_mask_ae + 0.01 * corrloss\n",
    "        optimizer.zero_grad()\n",
    "        loss.backward()\n",
    "        optimizer.step()\n",
    "        if epoch % 10 == 0:\n",
    "            print ('train epoch %d: loss_ae: %.6f loss_mask_ae: %.6f loss_corr: %.6f' \\\n",
    "                   % (epoch, loss.item(), loss_mask_ae.item(), corrloss.item()))\n",
    "    torch.save(model.state_dict(), model_path)\n"
   ]
  },
  {
   "cell_type": "code",
   "execution_count": 7,
   "metadata": {
    "pycharm": {
     "name": "#%%\n"
    }
   },
   "outputs": [
    {
     "name": "stdout",
     "output_type": "stream",
     "text": [
      "(3798, 921) (45647, 921)\n",
      "8.3757105 0.0 6.1131206 0.0\n",
      "Before Norm ST: 0.6720480268028176 Before Norm RNA: 0.7785909122610616\n"
     ]
    },
    {
     "name": "stderr",
     "output_type": "stream",
     "text": [
      "C:\\ProgramData\\Anaconda3\\envs\\torch1.10\\lib\\site-packages\\sklearn\\utils\\validation.py:598: FutureWarning: np.matrix usage is deprecated in 1.0 and will raise a TypeError in 1.2. Please convert to a numpy array with np.asarray. For more information see: https://numpy.org/doc/stable/reference/generated/numpy.matrix.html\n",
      "  FutureWarning,\n",
      "C:\\ProgramData\\Anaconda3\\envs\\torch1.10\\lib\\site-packages\\sklearn\\utils\\validation.py:598: FutureWarning: np.matrix usage is deprecated in 1.0 and will raise a TypeError in 1.2. Please convert to a numpy array with np.asarray. For more information see: https://numpy.org/doc/stable/reference/generated/numpy.matrix.html\n",
      "  FutureWarning,\n"
     ]
    },
    {
     "name": "stdout",
     "output_type": "stream",
     "text": [
      "Xrna shape: (45647, 828) Xst shape: (3798, 828)\n",
      "ST: 0.6720483447937257 RNA: 0.7785909122610616\n",
      "1.0 0.0 0.1413657 1.0 0.0 0.115089804\n",
      "train/BRCA_0.pkl\n",
      "\n",
      "===========> Training... <===========\n",
      "train epoch 0: loss_ae: 0.081008 loss_mask_ae: 0.215522 loss_corr: 1.004733\n",
      "train epoch 10: loss_ae: 0.063611 loss_mask_ae: 0.143707 loss_corr: 0.971637\n",
      "train epoch 20: loss_ae: 0.053623 loss_mask_ae: 0.076622 loss_corr: 0.920570\n",
      "train epoch 30: loss_ae: 0.049898 loss_mask_ae: 0.071980 loss_corr: 0.887965\n",
      "train epoch 40: loss_ae: 0.045990 loss_mask_ae: 0.070037 loss_corr: 0.876791\n",
      "train epoch 50: loss_ae: 0.046238 loss_mask_ae: 0.056039 loss_corr: 0.874176\n",
      "train epoch 60: loss_ae: 0.040302 loss_mask_ae: 0.076589 loss_corr: 0.868123\n",
      "train epoch 70: loss_ae: 0.037731 loss_mask_ae: 0.067067 loss_corr: 0.856886\n",
      "train epoch 80: loss_ae: 0.036295 loss_mask_ae: 0.061961 loss_corr: 0.850242\n",
      "train epoch 90: loss_ae: 0.035487 loss_mask_ae: 0.053463 loss_corr: 0.845099\n",
      "Finished 0 Times Training and Testing...\n",
      "(3798, 921) (45647, 921)\n",
      "8.3757105 0.0 6.1131206 0.0\n",
      "Before Norm ST: 0.6695067113603693 Before Norm RNA: 0.7782712530729932\n"
     ]
    },
    {
     "name": "stderr",
     "output_type": "stream",
     "text": [
      "C:\\ProgramData\\Anaconda3\\envs\\torch1.10\\lib\\site-packages\\sklearn\\utils\\validation.py:598: FutureWarning: np.matrix usage is deprecated in 1.0 and will raise a TypeError in 1.2. Please convert to a numpy array with np.asarray. For more information see: https://numpy.org/doc/stable/reference/generated/numpy.matrix.html\n",
      "  FutureWarning,\n",
      "C:\\ProgramData\\Anaconda3\\envs\\torch1.10\\lib\\site-packages\\sklearn\\utils\\validation.py:598: FutureWarning: np.matrix usage is deprecated in 1.0 and will raise a TypeError in 1.2. Please convert to a numpy array with np.asarray. For more information see: https://numpy.org/doc/stable/reference/generated/numpy.matrix.html\n",
      "  FutureWarning,\n"
     ]
    },
    {
     "name": "stdout",
     "output_type": "stream",
     "text": [
      "Xrna shape: (45647, 829) Xst shape: (3798, 829)\n",
      "ST: 0.6695070289676937 RNA: 0.7782712530729932\n",
      "1.0 0.0 0.14286344 1.0 0.0 0.114488915\n",
      "train/BRCA_1.pkl\n",
      "\n",
      "===========> Training... <===========\n",
      "train epoch 0: loss_ae: 0.081783 loss_mask_ae: 0.216400 loss_corr: 0.998322\n",
      "train epoch 10: loss_ae: 0.072879 loss_mask_ae: 0.177274 loss_corr: 0.988577\n",
      "train epoch 20: loss_ae: 0.054041 loss_mask_ae: 0.114291 loss_corr: 0.929493\n",
      "train epoch 30: loss_ae: 0.049813 loss_mask_ae: 0.071088 loss_corr: 0.889236\n",
      "train epoch 40: loss_ae: 0.047202 loss_mask_ae: 0.067792 loss_corr: 0.876503\n",
      "train epoch 50: loss_ae: 0.042510 loss_mask_ae: 0.066684 loss_corr: 0.874758\n",
      "train epoch 60: loss_ae: 0.038970 loss_mask_ae: 0.068585 loss_corr: 0.870011\n",
      "train epoch 70: loss_ae: 0.039218 loss_mask_ae: 0.076920 loss_corr: 0.861308\n",
      "train epoch 80: loss_ae: 0.037091 loss_mask_ae: 0.050715 loss_corr: 0.855245\n",
      "train epoch 90: loss_ae: 0.035787 loss_mask_ae: 0.051967 loss_corr: 0.849791\n",
      "Finished 1 Times Training and Testing...\n",
      "(3798, 921) (45647, 921)\n",
      "8.3757105 0.0 6.1131206 0.0\n",
      "Before Norm ST: 0.6768370884047283 Before Norm RNA: 0.7808339778881643\n",
      "Xrna shape: (45647, 829) Xst shape: (3798, 829)\n"
     ]
    },
    {
     "name": "stderr",
     "output_type": "stream",
     "text": [
      "C:\\ProgramData\\Anaconda3\\envs\\torch1.10\\lib\\site-packages\\sklearn\\utils\\validation.py:598: FutureWarning: np.matrix usage is deprecated in 1.0 and will raise a TypeError in 1.2. Please convert to a numpy array with np.asarray. For more information see: https://numpy.org/doc/stable/reference/generated/numpy.matrix.html\n",
      "  FutureWarning,\n",
      "C:\\ProgramData\\Anaconda3\\envs\\torch1.10\\lib\\site-packages\\sklearn\\utils\\validation.py:598: FutureWarning: np.matrix usage is deprecated in 1.0 and will raise a TypeError in 1.2. Please convert to a numpy array with np.asarray. For more information see: https://numpy.org/doc/stable/reference/generated/numpy.matrix.html\n",
      "  FutureWarning,\n"
     ]
    },
    {
     "name": "stdout",
     "output_type": "stream",
     "text": [
      "ST: 0.6768374060120526 RNA: 0.7808339778881643\n",
      "1.0 0.0 0.13857847 1.0 0.0 0.11407149\n",
      "train/BRCA_2.pkl\n",
      "\n",
      "===========> Training... <===========\n",
      "train epoch 0: loss_ae: 0.079235 loss_mask_ae: 0.213454 loss_corr: 0.997719\n",
      "train epoch 10: loss_ae: 0.064095 loss_mask_ae: 0.154997 loss_corr: 0.970128\n",
      "train epoch 20: loss_ae: 0.049520 loss_mask_ae: 0.093493 loss_corr: 0.911815\n",
      "train epoch 30: loss_ae: 0.047773 loss_mask_ae: 0.075076 loss_corr: 0.887190\n",
      "train epoch 40: loss_ae: 0.044638 loss_mask_ae: 0.065813 loss_corr: 0.881880\n",
      "train epoch 50: loss_ae: 0.040367 loss_mask_ae: 0.062594 loss_corr: 0.886272\n",
      "train epoch 60: loss_ae: 0.037598 loss_mask_ae: 0.061242 loss_corr: 0.873992\n",
      "train epoch 70: loss_ae: 0.036289 loss_mask_ae: 0.060890 loss_corr: 0.861581\n",
      "train epoch 80: loss_ae: 0.035657 loss_mask_ae: 0.059854 loss_corr: 0.852607\n",
      "train epoch 90: loss_ae: 0.035314 loss_mask_ae: 0.060843 loss_corr: 0.846736\n",
      "Finished 2 Times Training and Testing...\n",
      "(3798, 921) (45647, 921)\n",
      "8.3757105 0.0 6.1131206 0.0\n",
      "Before Norm ST: 0.6651507269078831 Before Norm RNA: 0.7760074604078082\n",
      "Xrna shape: (45647, 829) Xst shape: (3798, 829)\n"
     ]
    },
    {
     "name": "stderr",
     "output_type": "stream",
     "text": [
      "C:\\ProgramData\\Anaconda3\\envs\\torch1.10\\lib\\site-packages\\sklearn\\utils\\validation.py:598: FutureWarning: np.matrix usage is deprecated in 1.0 and will raise a TypeError in 1.2. Please convert to a numpy array with np.asarray. For more information see: https://numpy.org/doc/stable/reference/generated/numpy.matrix.html\n",
      "  FutureWarning,\n",
      "C:\\ProgramData\\Anaconda3\\envs\\torch1.10\\lib\\site-packages\\sklearn\\utils\\validation.py:598: FutureWarning: np.matrix usage is deprecated in 1.0 and will raise a TypeError in 1.2. Please convert to a numpy array with np.asarray. For more information see: https://numpy.org/doc/stable/reference/generated/numpy.matrix.html\n",
      "  FutureWarning,\n"
     ]
    },
    {
     "name": "stdout",
     "output_type": "stream",
     "text": [
      "ST: 0.6651510445152073 RNA: 0.7760074604078082\n",
      "1.0 0.0 0.14487197 1.0 0.0 0.11577417\n",
      "train/BRCA_3.pkl\n",
      "\n",
      "===========> Training... <===========\n",
      "train epoch 0: loss_ae: 0.082867 loss_mask_ae: 0.216753 loss_corr: 1.000662\n",
      "train epoch 10: loss_ae: 0.064089 loss_mask_ae: 0.139510 loss_corr: 0.966398\n",
      "train epoch 20: loss_ae: 0.052139 loss_mask_ae: 0.100648 loss_corr: 0.911101\n",
      "train epoch 30: loss_ae: 0.048331 loss_mask_ae: 0.080435 loss_corr: 0.881214\n",
      "train epoch 40: loss_ae: 0.054402 loss_mask_ae: 0.122816 loss_corr: 0.891889\n",
      "train epoch 50: loss_ae: 0.044822 loss_mask_ae: 0.075106 loss_corr: 0.888613\n",
      "train epoch 60: loss_ae: 0.041698 loss_mask_ae: 0.054213 loss_corr: 0.878094\n",
      "train epoch 70: loss_ae: 0.038271 loss_mask_ae: 0.057755 loss_corr: 0.870410\n",
      "train epoch 80: loss_ae: 0.036845 loss_mask_ae: 0.061908 loss_corr: 0.858468\n",
      "train epoch 90: loss_ae: 0.035936 loss_mask_ae: 0.059166 loss_corr: 0.849747\n",
      "Finished 3 Times Training and Testing...\n",
      "(3798, 921) (45647, 921)\n",
      "7.801908 0.0 5.955568 0.0\n",
      "Before Norm ST: 0.6807878059114345 Before Norm RNA: 0.7858623644185332\n",
      "Xrna shape: (45647, 829) Xst shape: (3798, 829)\n"
     ]
    },
    {
     "name": "stderr",
     "output_type": "stream",
     "text": [
      "C:\\ProgramData\\Anaconda3\\envs\\torch1.10\\lib\\site-packages\\sklearn\\utils\\validation.py:598: FutureWarning: np.matrix usage is deprecated in 1.0 and will raise a TypeError in 1.2. Please convert to a numpy array with np.asarray. For more information see: https://numpy.org/doc/stable/reference/generated/numpy.matrix.html\n",
      "  FutureWarning,\n",
      "C:\\ProgramData\\Anaconda3\\envs\\torch1.10\\lib\\site-packages\\sklearn\\utils\\validation.py:598: FutureWarning: np.matrix usage is deprecated in 1.0 and will raise a TypeError in 1.2. Please convert to a numpy array with np.asarray. For more information see: https://numpy.org/doc/stable/reference/generated/numpy.matrix.html\n",
      "  FutureWarning,\n"
     ]
    },
    {
     "name": "stdout",
     "output_type": "stream",
     "text": [
      "ST: 0.6807878059114345 RNA: 0.7858623644185332\n",
      "1.0 0.0 0.13504948 1.0 0.0 0.10999393\n",
      "train/BRCA_4.pkl\n",
      "\n",
      "===========> Training... <===========\n",
      "train epoch 0: loss_ae: 0.076294 loss_mask_ae: 0.206862 loss_corr: 0.999013\n",
      "train epoch 10: loss_ae: 0.060205 loss_mask_ae: 0.138070 loss_corr: 0.959072\n",
      "train epoch 20: loss_ae: 0.049623 loss_mask_ae: 0.088356 loss_corr: 0.912338\n",
      "train epoch 30: loss_ae: 0.047491 loss_mask_ae: 0.097286 loss_corr: 0.879013\n",
      "train epoch 40: loss_ae: 0.056704 loss_mask_ae: 0.139266 loss_corr: 0.896642\n",
      "train epoch 50: loss_ae: 0.043935 loss_mask_ae: 0.058736 loss_corr: 0.873719\n",
      "train epoch 60: loss_ae: 0.039509 loss_mask_ae: 0.066373 loss_corr: 0.871702\n",
      "train epoch 70: loss_ae: 0.037943 loss_mask_ae: 0.057959 loss_corr: 0.860641\n",
      "train epoch 80: loss_ae: 0.036584 loss_mask_ae: 0.058688 loss_corr: 0.850130\n",
      "train epoch 90: loss_ae: 0.035917 loss_mask_ae: 0.063158 loss_corr: 0.841852\n",
      "Finished 4 Times Training and Testing...\n",
      "(3798, 921) (45647, 921)\n",
      "8.3757105 0.0 6.1131206 0.0\n",
      "Before Norm ST: 0.6681251194997557 Before Norm RNA: 0.7795189354040973\n",
      "Xrna shape: (45647, 829) Xst shape: (3798, 829)\n"
     ]
    },
    {
     "name": "stderr",
     "output_type": "stream",
     "text": [
      "C:\\ProgramData\\Anaconda3\\envs\\torch1.10\\lib\\site-packages\\sklearn\\utils\\validation.py:598: FutureWarning: np.matrix usage is deprecated in 1.0 and will raise a TypeError in 1.2. Please convert to a numpy array with np.asarray. For more information see: https://numpy.org/doc/stable/reference/generated/numpy.matrix.html\n",
      "  FutureWarning,\n",
      "C:\\ProgramData\\Anaconda3\\envs\\torch1.10\\lib\\site-packages\\sklearn\\utils\\validation.py:598: FutureWarning: np.matrix usage is deprecated in 1.0 and will raise a TypeError in 1.2. Please convert to a numpy array with np.asarray. For more information see: https://numpy.org/doc/stable/reference/generated/numpy.matrix.html\n",
      "  FutureWarning,\n"
     ]
    },
    {
     "name": "stdout",
     "output_type": "stream",
     "text": [
      "ST: 0.6681254371070801 RNA: 0.7795189354040973\n",
      "1.0 0.0 0.14310195 1.0 0.0 0.11382983\n",
      "train/BRCA_5.pkl\n",
      "\n",
      "===========> Training... <===========\n",
      "train epoch 0: loss_ae: 0.081712 loss_mask_ae: 0.215325 loss_corr: 0.997204\n",
      "train epoch 10: loss_ae: 0.061703 loss_mask_ae: 0.121295 loss_corr: 0.961805\n",
      "train epoch 20: loss_ae: 0.050967 loss_mask_ae: 0.075758 loss_corr: 0.903685\n",
      "train epoch 30: loss_ae: 0.058576 loss_mask_ae: 0.059730 loss_corr: 0.882914\n",
      "train epoch 40: loss_ae: 0.050076 loss_mask_ae: 0.062279 loss_corr: 0.885362\n",
      "train epoch 50: loss_ae: 0.044930 loss_mask_ae: 0.062752 loss_corr: 0.883589\n",
      "train epoch 60: loss_ae: 0.040092 loss_mask_ae: 0.063784 loss_corr: 0.873173\n",
      "train epoch 70: loss_ae: 0.041798 loss_mask_ae: 0.048662 loss_corr: 0.873078\n",
      "train epoch 80: loss_ae: 0.037019 loss_mask_ae: 0.063391 loss_corr: 0.863394\n",
      "train epoch 90: loss_ae: 0.035915 loss_mask_ae: 0.055762 loss_corr: 0.855291\n",
      "Finished 5 Times Training and Testing...\n",
      "(3798, 921) (45647, 921)\n",
      "8.3757105 0.0 6.1131206 0.0\n",
      "Before Norm ST: 0.6753751418910722 Before Norm RNA: 0.7792705828275794\n",
      "Xrna shape: (45647, 829) Xst shape: (3798, 829)\n"
     ]
    },
    {
     "name": "stderr",
     "output_type": "stream",
     "text": [
      "C:\\ProgramData\\Anaconda3\\envs\\torch1.10\\lib\\site-packages\\sklearn\\utils\\validation.py:598: FutureWarning: np.matrix usage is deprecated in 1.0 and will raise a TypeError in 1.2. Please convert to a numpy array with np.asarray. For more information see: https://numpy.org/doc/stable/reference/generated/numpy.matrix.html\n",
      "  FutureWarning,\n",
      "C:\\ProgramData\\Anaconda3\\envs\\torch1.10\\lib\\site-packages\\sklearn\\utils\\validation.py:598: FutureWarning: np.matrix usage is deprecated in 1.0 and will raise a TypeError in 1.2. Please convert to a numpy array with np.asarray. For more information see: https://numpy.org/doc/stable/reference/generated/numpy.matrix.html\n",
      "  FutureWarning,\n"
     ]
    },
    {
     "name": "stdout",
     "output_type": "stream",
     "text": [
      "ST: 0.6753754594983964 RNA: 0.7792705828275794\n",
      "1.0 0.0 0.13982828 1.0 0.0 0.11420379\n",
      "train/BRCA_6.pkl\n",
      "\n",
      "===========> Training... <===========\n",
      "train epoch 0: loss_ae: 0.080174 loss_mask_ae: 0.215242 loss_corr: 1.002069\n",
      "train epoch 10: loss_ae: 0.060992 loss_mask_ae: 0.113495 loss_corr: 0.955892\n",
      "train epoch 20: loss_ae: 0.058187 loss_mask_ae: 0.071740 loss_corr: 0.925059\n",
      "train epoch 30: loss_ae: 0.048689 loss_mask_ae: 0.088160 loss_corr: 0.885663\n",
      "train epoch 40: loss_ae: 0.045981 loss_mask_ae: 0.067494 loss_corr: 0.875839\n",
      "train epoch 50: loss_ae: 0.040723 loss_mask_ae: 0.069050 loss_corr: 0.874012\n",
      "train epoch 60: loss_ae: 0.045294 loss_mask_ae: 0.097066 loss_corr: 0.900008\n",
      "train epoch 70: loss_ae: 0.040028 loss_mask_ae: 0.065355 loss_corr: 0.881291\n",
      "train epoch 80: loss_ae: 0.038392 loss_mask_ae: 0.072191 loss_corr: 0.870481\n",
      "train epoch 90: loss_ae: 0.036715 loss_mask_ae: 0.054952 loss_corr: 0.857840\n",
      "Finished 6 Times Training and Testing...\n",
      "(3798, 921) (45647, 921)\n",
      "8.3757105 0.0 6.1131206 0.0\n",
      "Before Norm ST: 0.6715930738735579 Before Norm RNA: 0.7811551872484086\n",
      "Xrna shape: (45647, 829) Xst shape: (3798, 829)\n"
     ]
    },
    {
     "name": "stderr",
     "output_type": "stream",
     "text": [
      "C:\\ProgramData\\Anaconda3\\envs\\torch1.10\\lib\\site-packages\\sklearn\\utils\\validation.py:598: FutureWarning: np.matrix usage is deprecated in 1.0 and will raise a TypeError in 1.2. Please convert to a numpy array with np.asarray. For more information see: https://numpy.org/doc/stable/reference/generated/numpy.matrix.html\n",
      "  FutureWarning,\n",
      "C:\\ProgramData\\Anaconda3\\envs\\torch1.10\\lib\\site-packages\\sklearn\\utils\\validation.py:598: FutureWarning: np.matrix usage is deprecated in 1.0 and will raise a TypeError in 1.2. Please convert to a numpy array with np.asarray. For more information see: https://numpy.org/doc/stable/reference/generated/numpy.matrix.html\n",
      "  FutureWarning,\n"
     ]
    },
    {
     "name": "stdout",
     "output_type": "stream",
     "text": [
      "ST: 0.6715933914808823 RNA: 0.7811551872484086\n",
      "1.0 0.0 0.14178143 1.0 0.0 0.11343517\n",
      "train/BRCA_7.pkl\n",
      "\n",
      "===========> Training... <===========\n",
      "train epoch 0: loss_ae: 0.081134 loss_mask_ae: 0.215777 loss_corr: 0.999044\n",
      "train epoch 10: loss_ae: 0.064084 loss_mask_ae: 0.147117 loss_corr: 0.968628\n",
      "train epoch 20: loss_ae: 0.050987 loss_mask_ae: 0.101794 loss_corr: 0.909930\n",
      "train epoch 30: loss_ae: 0.053585 loss_mask_ae: 0.121723 loss_corr: 0.887206\n",
      "train epoch 40: loss_ae: 0.048104 loss_mask_ae: 0.097077 loss_corr: 0.877878\n",
      "train epoch 50: loss_ae: 0.043268 loss_mask_ae: 0.068906 loss_corr: 0.874849\n",
      "train epoch 60: loss_ae: 0.040315 loss_mask_ae: 0.062267 loss_corr: 0.875507\n",
      "train epoch 70: loss_ae: 0.037721 loss_mask_ae: 0.065606 loss_corr: 0.868804\n",
      "train epoch 80: loss_ae: 0.036669 loss_mask_ae: 0.064098 loss_corr: 0.860343\n",
      "train epoch 90: loss_ae: 0.035556 loss_mask_ae: 0.054339 loss_corr: 0.851740\n",
      "Finished 7 Times Training and Testing...\n",
      "(3798, 921) (45647, 921)\n",
      "8.3757105 0.0 6.1131206 0.0\n",
      "Before Norm ST: 0.6735670033939518 Before Norm RNA: 0.7800958702253933\n",
      "Xrna shape: (45647, 829) Xst shape: (3798, 829)\n"
     ]
    },
    {
     "name": "stderr",
     "output_type": "stream",
     "text": [
      "C:\\ProgramData\\Anaconda3\\envs\\torch1.10\\lib\\site-packages\\sklearn\\utils\\validation.py:598: FutureWarning: np.matrix usage is deprecated in 1.0 and will raise a TypeError in 1.2. Please convert to a numpy array with np.asarray. For more information see: https://numpy.org/doc/stable/reference/generated/numpy.matrix.html\n",
      "  FutureWarning,\n",
      "C:\\ProgramData\\Anaconda3\\envs\\torch1.10\\lib\\site-packages\\sklearn\\utils\\validation.py:598: FutureWarning: np.matrix usage is deprecated in 1.0 and will raise a TypeError in 1.2. Please convert to a numpy array with np.asarray. For more information see: https://numpy.org/doc/stable/reference/generated/numpy.matrix.html\n",
      "  FutureWarning,\n"
     ]
    },
    {
     "name": "stdout",
     "output_type": "stream",
     "text": [
      "ST: 0.6735673210012761 RNA: 0.7800958702253933\n",
      "1.0 0.0 0.13999219 1.0 0.0 0.11338467\n",
      "train/BRCA_8.pkl\n",
      "\n",
      "===========> Training... <===========\n",
      "train epoch 0: loss_ae: 0.079913 loss_mask_ae: 0.213403 loss_corr: 0.997659\n",
      "train epoch 10: loss_ae: 0.060584 loss_mask_ae: 0.120158 loss_corr: 0.961184\n",
      "train epoch 20: loss_ae: 0.050569 loss_mask_ae: 0.099348 loss_corr: 0.902109\n",
      "train epoch 30: loss_ae: 0.048586 loss_mask_ae: 0.095377 loss_corr: 0.876824\n",
      "train epoch 40: loss_ae: 0.046253 loss_mask_ae: 0.091611 loss_corr: 0.877667\n",
      "train epoch 50: loss_ae: 0.041326 loss_mask_ae: 0.056664 loss_corr: 0.871530\n",
      "train epoch 60: loss_ae: 0.038350 loss_mask_ae: 0.058586 loss_corr: 0.864259\n",
      "train epoch 70: loss_ae: 0.038736 loss_mask_ae: 0.076597 loss_corr: 0.859641\n",
      "train epoch 80: loss_ae: 0.038240 loss_mask_ae: 0.075022 loss_corr: 0.850833\n",
      "train epoch 90: loss_ae: 0.035732 loss_mask_ae: 0.054896 loss_corr: 0.849034\n",
      "Finished 8 Times Training and Testing...\n",
      "(3798, 921) (45647, 921)\n",
      "8.3757105 0.0 6.1131206 0.0\n",
      "Before Norm ST: 0.6785181839721369 Before Norm RNA: 0.7835552329338665\n",
      "Xrna shape: (45647, 829) Xst shape: (3798, 829)\n"
     ]
    },
    {
     "name": "stderr",
     "output_type": "stream",
     "text": [
      "C:\\ProgramData\\Anaconda3\\envs\\torch1.10\\lib\\site-packages\\sklearn\\utils\\validation.py:598: FutureWarning: np.matrix usage is deprecated in 1.0 and will raise a TypeError in 1.2. Please convert to a numpy array with np.asarray. For more information see: https://numpy.org/doc/stable/reference/generated/numpy.matrix.html\n",
      "  FutureWarning,\n",
      "C:\\ProgramData\\Anaconda3\\envs\\torch1.10\\lib\\site-packages\\sklearn\\utils\\validation.py:598: FutureWarning: np.matrix usage is deprecated in 1.0 and will raise a TypeError in 1.2. Please convert to a numpy array with np.asarray. For more information see: https://numpy.org/doc/stable/reference/generated/numpy.matrix.html\n",
      "  FutureWarning,\n"
     ]
    },
    {
     "name": "stdout",
     "output_type": "stream",
     "text": [
      "ST: 0.6785185015794613 RNA: 0.7835552329338665\n",
      "1.0 0.0 0.13808104 1.0 0.0 0.1121006\n",
      "train/BRCA_9.pkl\n",
      "\n",
      "===========> Training... <===========\n",
      "train epoch 0: loss_ae: 0.079105 loss_mask_ae: 0.214153 loss_corr: 0.997699\n",
      "train epoch 10: loss_ae: 0.062840 loss_mask_ae: 0.155482 loss_corr: 0.931539\n",
      "train epoch 20: loss_ae: 0.054973 loss_mask_ae: 0.126566 loss_corr: 0.923705\n",
      "train epoch 30: loss_ae: 0.049046 loss_mask_ae: 0.088776 loss_corr: 0.892152\n",
      "train epoch 40: loss_ae: 0.047220 loss_mask_ae: 0.078958 loss_corr: 0.876901\n",
      "train epoch 50: loss_ae: 0.043446 loss_mask_ae: 0.075487 loss_corr: 0.872055\n",
      "train epoch 60: loss_ae: 0.040113 loss_mask_ae: 0.069214 loss_corr: 0.870668\n",
      "train epoch 70: loss_ae: 0.042475 loss_mask_ae: 0.047241 loss_corr: 0.875449\n",
      "train epoch 80: loss_ae: 0.038313 loss_mask_ae: 0.066235 loss_corr: 0.877425\n",
      "train epoch 90: loss_ae: 0.036313 loss_mask_ae: 0.064111 loss_corr: 0.858517\n",
      "Finished 9 Times Training and Testing...\n"
     ]
    }
   ],
   "source": [
    "cnts = 0\n",
    "for train_idx, test_idx in cv.split(atlas_genes):\n",
    "    x1_train_cell = x1_cell[:, train_idx]\n",
    "    x1_test_cell = x1_cell[:, test_idx]\n",
    "    x2_train_cell = x2_rna[:, train_idx]\n",
    "    x2_test_cell = x2_rna[:, test_idx]\n",
    "    print(x1_cell.shape, x2_rna.shape)\n",
    "    x1 = x1_train_cell.astype(np.float32)\n",
    "    x2 = x2_train_cell.astype(np.float32)\n",
    "    print (x1.max(), x1.min(), x2.max(), x2.min())\n",
    "    count_zerox1 = np.sum(x1 == 0)\n",
    "    count_zerox2 = np.sum(x2 == 0)\n",
    "    print('Before Norm ST:', float(count_zerox1) / float(x1.shape[0] * x1.shape[1]), 'Before Norm RNA:',\n",
    "          float(count_zerox2) / float(x2.shape[0] * x2.shape[1]))\n",
    "    x1, x2 = normalize_type(x1, x2, type='all')\n",
    "    print ('Xrna shape:', x2.shape,  'Xst shape:', x1.shape)\n",
    "    count_zerox1 = np.sum(x1 == 0)\n",
    "    count_zerox2 = np.sum(x2 == 0)\n",
    "    print ('ST:', float(count_zerox1) / float(x1.shape[0]*x1.shape[1]), 'RNA:', float(count_zerox2) / float(x2.shape[0]*x2.shape[1]))\n",
    "    print (x1.max(), x1.min(), x1.mean(), x2.max(), x2.min(), x2.mean())\n",
    "    config = get_default_config(data_name)\n",
    "    config['num_sample1'] = x1.shape[0]\n",
    "    config['num_sample2'] = x2.shape[0]\n",
    "    train_path = \"train/%s_%d.pkl\" % (data_name, cnts)\n",
    "    print (train_path)\n",
    "    tmp_dims = x1.shape[1]\n",
    "    model = Model(config)\n",
    "    model.to(device)\n",
    "    optimizer_pre = torch.optim.Adam(model.parameters(), lr=config['pre_lr'])\n",
    "    train(model, optimizer_pre, x1, x2, config, train_path)\n",
    "    print(\"Finished \" + str(cnts) + ' Times Training and Testing...')\n",
    "    cnts += 1\n"
   ]
  },
  {
   "cell_type": "code",
   "execution_count": null,
   "metadata": {
    "pycharm": {
     "name": "#%%\n"
    }
   },
   "outputs": [],
   "source": []
  }
 ],
 "metadata": {
  "kernelspec": {
   "display_name": "torch1.10",
   "language": "python",
   "name": "torch1.10"
  },
  "language_info": {
   "codemirror_mode": {
    "name": "ipython",
    "version": 3
   },
   "file_extension": ".py",
   "mimetype": "text/x-python",
   "name": "python",
   "nbconvert_exporter": "python",
   "pygments_lexer": "ipython3",
   "version": "3.7.12"
  },
  "pycharm": {
   "stem_cell": {
    "cell_type": "raw",
    "metadata": {
     "collapsed": false
    },
    "source": []
   }
  }
 },
 "nbformat": 4,
 "nbformat_minor": 1
}
